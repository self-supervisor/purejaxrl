{
 "cells": [
  {
   "cell_type": "code",
   "execution_count": 3,
   "metadata": {},
   "outputs": [
    {
     "name": "stdout",
     "output_type": "stream",
     "text": [
      "lr = 0.1, ent_coef = 0.001\n",
      "lr = 0.1, ent_coef = 0.1\n",
      "lr = 0.1, ent_coef = 1e-06\n",
      "lr = 0.01, ent_coef = 0.001\n",
      "lr = 0.01, ent_coef = 0.1\n",
      "lr = 0.01, ent_coef = 1e-06\n",
      "lr = 0.001, ent_coef = 0.001\n",
      "lr = 0.001, ent_coef = 0.1\n",
      "lr = 0.001, ent_coef = 1e-06\n"
     ]
    }
   ],
   "source": [
    "from itertools import product\n",
    "\n",
    "lr = [0.1, 0.01, 0.001]\n",
    "ent_coef = [0.001, 0.1, 0.000001]\n",
    "\n",
    "\n",
    "# Generate all possible combinations of lr and ent_coef\n",
    "lr_ent_coef_combinations = list(product(lr, ent_coef))\n",
    "\n",
    "# Loop through the combinations and print them\n",
    "for lr_val, ent_coef_val in lr_ent_coef_combinations:\n",
    "    print(f\"lr = {lr_val}, ent_coef = {ent_coef_val}\")"
   ]
  },
  {
   "cell_type": "code",
   "execution_count": 4,
   "metadata": {},
   "outputs": [
    {
     "name": "stdout",
     "output_type": "stream",
     "text": [
      "lr_combinations: [0.1   0.1   0.1   0.01  0.01  0.01  0.001 0.001 0.001]\n",
      "ent_coef_combinations: [1.e-03 1.e-01 1.e-06 1.e-03 1.e-01 1.e-06 1.e-03 1.e-01 1.e-06]\n"
     ]
    }
   ],
   "source": [
    "import numpy as np\n",
    "from itertools import product\n",
    "\n",
    "lr = [0.1, 0.01, 0.001]\n",
    "ent_coef = [0.001, 0.1, 0.000001]\n",
    "\n",
    "# Generate all possible combinations of lr and ent_coef\n",
    "lr_ent_coef_combinations = np.array(list(product(lr, ent_coef)))\n",
    "\n",
    "# Split the combinations into separate arrays\n",
    "lr_combinations = lr_ent_coef_combinations[:, 0]\n",
    "ent_coef_combinations = lr_ent_coef_combinations[:, 1]\n",
    "\n",
    "# Print the resulting arrays\n",
    "print(\"lr_combinations:\", lr_combinations)\n",
    "print(\"ent_coef_combinations:\", ent_coef_combinations)"
   ]
  },
  {
   "cell_type": "code",
   "execution_count": null,
   "metadata": {},
   "outputs": [],
   "source": [
    "# round float to three decimal places\n",
    "print(round(0.123456789, 3))"
   ]
  }
 ],
 "metadata": {
  "kernelspec": {
   "display_name": "cleanrl_jax",
   "language": "python",
   "name": "python3"
  },
  "language_info": {
   "codemirror_mode": {
    "name": "ipython",
    "version": 3
   },
   "file_extension": ".py",
   "mimetype": "text/x-python",
   "name": "python",
   "nbconvert_exporter": "python",
   "pygments_lexer": "ipython3",
   "version": "3.8.15"
  },
  "orig_nbformat": 4
 },
 "nbformat": 4,
 "nbformat_minor": 2
}
